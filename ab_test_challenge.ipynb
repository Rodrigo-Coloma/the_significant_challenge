{
 "cells": [
  {
   "cell_type": "markdown",
   "id": "5809e45c",
   "metadata": {},
   "source": [
    "# A/B Test Challenge\n",
    "\n",
    "\n",
    "\n",
    "---\n",
    "\n",
    "#### What is an A/B Test? \n",
    "\n",
    "It is a decision making support & research methodology that allow you to measure an impact of a change in a product (e.g.: a digital product). For this challenge you will analyse the data resulting of an A/B test performed on a digital product where a new set of sponsored ads are included.\n",
    "\n",
    "\n",
    "#### Measure of success\n",
    "\n",
    "Metrics are needed to measure the success of your product. They are typically split in the following categories: \n",
    "\n",
    "- __Enganged based metrics:__ number of users, number of downloads, number of active users, user retention, etc.\n",
    "\n",
    "- __Revenue and monetization metrics:__ ads and affiliate links, subscription-based, in-app purchases, etc.\n",
    "\n",
    "- __Technical metrics:__ service level indicators (uptime of the app, downtime of the app, latency).\n",
    "\n"
   ]
  },
  {
   "cell_type": "markdown",
   "id": "37beb756",
   "metadata": {},
   "source": [
    "---\n",
    "\n",
    "## Metrics understanding\n",
    "\n",
    "In this part you must analyse the metrics involved in the test. We will focus in the following metrics:\n",
    "\n",
    "- Activity level + Daily active users (DAU).\n",
    "\n",
    "- Click-through rate (CTR)"
   ]
  },
  {
   "cell_type": "markdown",
   "id": "1656e9f4",
   "metadata": {},
   "source": [
    "### Activity level\n",
    "\n",
    "In the following part you must perform every calculation you consider necessary in order to answer the following questions:\n",
    "\n",
    "- How many activity levels you can find in the dataset (Activity level of zero means no activity).\n",
    "\n",
    "- What is the amount of users for each activity level.\n",
    "\n",
    "- How many activity levels do you have per day and how many records per each activity level.\n",
    "\n",
    "At the end of this section you must provide your conclusions about the _activity level_ of the users.\n",
    "\n",
    "__Dataset:__ `activity_pretest.csv`"
   ]
  },
  {
   "cell_type": "code",
   "execution_count": 1,
   "id": "560a5c8f",
   "metadata": {},
   "outputs": [],
   "source": [
    "import pandas as pd\n",
    "import numpy as np\n",
    "from statsmodels.stats.weightstats import ztest\n",
    "from statsmodels.stats.weightstats import ttest_ind"
   ]
  },
  {
   "cell_type": "code",
   "execution_count": 2,
   "id": "d60c9e82",
   "metadata": {},
   "outputs": [
    {
     "data": {
      "text/html": [
       "<div>\n",
       "<style scoped>\n",
       "    .dataframe tbody tr th:only-of-type {\n",
       "        vertical-align: middle;\n",
       "    }\n",
       "\n",
       "    .dataframe tbody tr th {\n",
       "        vertical-align: top;\n",
       "    }\n",
       "\n",
       "    .dataframe thead th {\n",
       "        text-align: right;\n",
       "    }\n",
       "</style>\n",
       "<table border=\"1\" class=\"dataframe\">\n",
       "  <thead>\n",
       "    <tr style=\"text-align: right;\">\n",
       "      <th></th>\n",
       "      <th>userid</th>\n",
       "      <th>dt</th>\n",
       "      <th>activity_level</th>\n",
       "    </tr>\n",
       "  </thead>\n",
       "  <tbody>\n",
       "    <tr>\n",
       "      <th>0</th>\n",
       "      <td>a5b70ae7-f07c-4773-9df4-ce112bc9dc48</td>\n",
       "      <td>2021-10-01</td>\n",
       "      <td>0</td>\n",
       "    </tr>\n",
       "    <tr>\n",
       "      <th>1</th>\n",
       "      <td>d2646662-269f-49de-aab1-8776afced9a3</td>\n",
       "      <td>2021-10-01</td>\n",
       "      <td>0</td>\n",
       "    </tr>\n",
       "    <tr>\n",
       "      <th>2</th>\n",
       "      <td>c4d1cfa8-283d-49ad-a894-90aedc39c798</td>\n",
       "      <td>2021-10-01</td>\n",
       "      <td>0</td>\n",
       "    </tr>\n",
       "    <tr>\n",
       "      <th>3</th>\n",
       "      <td>6889f87f-5356-4904-a35a-6ea5020011db</td>\n",
       "      <td>2021-10-01</td>\n",
       "      <td>0</td>\n",
       "    </tr>\n",
       "    <tr>\n",
       "      <th>4</th>\n",
       "      <td>dbee604c-474a-4c9d-b013-508e5a0e3059</td>\n",
       "      <td>2021-10-01</td>\n",
       "      <td>0</td>\n",
       "    </tr>\n",
       "  </tbody>\n",
       "</table>\n",
       "</div>"
      ],
      "text/plain": [
       "                                 userid          dt  activity_level\n",
       "0  a5b70ae7-f07c-4773-9df4-ce112bc9dc48  2021-10-01               0\n",
       "1  d2646662-269f-49de-aab1-8776afced9a3  2021-10-01               0\n",
       "2  c4d1cfa8-283d-49ad-a894-90aedc39c798  2021-10-01               0\n",
       "3  6889f87f-5356-4904-a35a-6ea5020011db  2021-10-01               0\n",
       "4  dbee604c-474a-4c9d-b013-508e5a0e3059  2021-10-01               0"
      ]
     },
     "execution_count": 2,
     "metadata": {},
     "output_type": "execute_result"
    }
   ],
   "source": [
    "activity = pd.read_csv('./data/activity_pretest.csv')\n",
    "activity.head()"
   ]
  },
  {
   "cell_type": "code",
   "execution_count": 3,
   "id": "bf7476be",
   "metadata": {},
   "outputs": [
    {
     "name": "stdout",
     "output_type": "stream",
     "text": [
      "21\n"
     ]
    },
    {
     "data": {
      "text/plain": [
       "array([ 0,  1,  2,  3,  4,  5,  6,  7,  8,  9, 10, 11, 12, 13, 14, 15, 16,\n",
       "       17, 18, 19, 20], dtype=int64)"
      ]
     },
     "execution_count": 3,
     "metadata": {},
     "output_type": "execute_result"
    }
   ],
   "source": [
    "levels = activity['activity_level'].unique()\n",
    "print(len(levels))\n",
    "levels"
   ]
  },
  {
   "cell_type": "code",
   "execution_count": 4,
   "id": "32c33a12",
   "metadata": {},
   "outputs": [],
   "source": [
    "act_levels = activity.groupby('activity_level').count()['userid']\n"
   ]
  },
  {
   "cell_type": "code",
   "execution_count": 5,
   "metadata": {},
   "outputs": [
    {
     "data": {
      "text/plain": [
       "dt\n",
       "2021-10-01    21\n",
       "2021-10-02    21\n",
       "2021-10-03    21\n",
       "2021-10-04    21\n",
       "2021-10-05    21\n",
       "2021-10-06    21\n",
       "2021-10-07    21\n",
       "2021-10-08    21\n",
       "2021-10-09    21\n",
       "2021-10-10    21\n",
       "2021-10-11    21\n",
       "2021-10-12    21\n",
       "2021-10-13    21\n",
       "2021-10-14    21\n",
       "2021-10-15    21\n",
       "2021-10-16    21\n",
       "2021-10-17    21\n",
       "2021-10-18    21\n",
       "2021-10-19    21\n",
       "2021-10-20    21\n",
       "2021-10-21    21\n",
       "2021-10-22    21\n",
       "2021-10-23    21\n",
       "2021-10-24    21\n",
       "2021-10-25    21\n",
       "2021-10-26    21\n",
       "2021-10-27    21\n",
       "2021-10-28    21\n",
       "2021-10-29    21\n",
       "2021-10-30    21\n",
       "2021-10-31    21\n",
       "Name: activity_level, dtype: int64"
      ]
     },
     "execution_count": 5,
     "metadata": {},
     "output_type": "execute_result"
    }
   ],
   "source": [
    "activity.groupby(['dt','activity_level']).count().reset_index().groupby('dt').count()['activity_level']"
   ]
  },
  {
   "cell_type": "code",
   "execution_count": 6,
   "id": "cff91cbe",
   "metadata": {},
   "outputs": [
    {
     "data": {
      "text/plain": [
       "dt\n",
       "2021-10-01    60000\n",
       "2021-10-02    60000\n",
       "2021-10-03    60000\n",
       "2021-10-04    60000\n",
       "2021-10-05    60000\n",
       "2021-10-06    60000\n",
       "2021-10-07    60000\n",
       "2021-10-08    60000\n",
       "2021-10-09    60000\n",
       "2021-10-10    60000\n",
       "2021-10-11    60000\n",
       "2021-10-12    60000\n",
       "2021-10-13    60000\n",
       "2021-10-14    60000\n",
       "2021-10-15    60000\n",
       "2021-10-16    60000\n",
       "2021-10-17    60000\n",
       "2021-10-18    60000\n",
       "2021-10-19    60000\n",
       "2021-10-20    60000\n",
       "2021-10-21    60000\n",
       "2021-10-22    60000\n",
       "2021-10-23    60000\n",
       "2021-10-24    60000\n",
       "2021-10-25    60000\n",
       "2021-10-26    60000\n",
       "2021-10-27    60000\n",
       "2021-10-28    60000\n",
       "2021-10-29    60000\n",
       "2021-10-30    60000\n",
       "2021-10-31    60000\n",
       "Name: userid, dtype: int64"
      ]
     },
     "execution_count": 6,
     "metadata": {},
     "output_type": "execute_result"
    }
   ],
   "source": [
    "activity.groupby(['dt','activity_level']).count().reset_index().groupby('dt').sum()['userid']"
   ]
  },
  {
   "cell_type": "markdown",
   "id": "2a033f4f",
   "metadata": {},
   "source": [
    "### Daily active users (DAU)\n",
    "\n",
    "![ab_test](./img/user_activity_ab_testing.JPG)\n",
    "\n",
    "\n",
    "The daily active users (DAU) refers to the amount of users that are active per day (activity level of zero means no activity). You must perform the calculation of this metric and provide your insights about it.\n",
    "\n",
    "__Dataset:__ `activity_pretest.csv`"
   ]
  },
  {
   "cell_type": "code",
   "execution_count": 7,
   "id": "38006d00",
   "metadata": {},
   "outputs": [
    {
     "data": {
      "text/plain": [
       "dt\n",
       "2021-10-01    30634\n",
       "2021-10-02    30775\n",
       "2021-10-03    30785\n",
       "2021-10-04    30599\n",
       "2021-10-05    30588\n",
       "2021-10-06    30639\n",
       "2021-10-07    30637\n",
       "2021-10-08    30600\n",
       "2021-10-09    30902\n",
       "2021-10-10    30581\n",
       "2021-10-11    30489\n",
       "2021-10-12    30715\n",
       "2021-10-13    30761\n",
       "2021-10-14    30716\n",
       "2021-10-15    30637\n",
       "2021-10-16    30708\n",
       "2021-10-17    30741\n",
       "2021-10-18    30694\n",
       "2021-10-19    30587\n",
       "2021-10-20    30795\n",
       "2021-10-21    30705\n",
       "2021-10-22    30573\n",
       "2021-10-23    30645\n",
       "2021-10-24    30815\n",
       "2021-10-25    30616\n",
       "2021-10-26    30673\n",
       "2021-10-27    30661\n",
       "2021-10-28    30734\n",
       "2021-10-29    30723\n",
       "2021-10-30    30628\n",
       "2021-10-31    30519\n",
       "Name: userid, dtype: int64"
      ]
     },
     "execution_count": 7,
     "metadata": {},
     "output_type": "execute_result"
    }
   ],
   "source": [
    "dau = activity.loc[activity['activity_level'] != 0,:].groupby('dt').count()['userid']\n",
    "dau"
   ]
  },
  {
   "cell_type": "markdown",
   "id": "9f2b985c",
   "metadata": {},
   "source": [
    "### Click-through rate (CTR)\n",
    "\n",
    "![ab_test](./img/ad_click_through_rate_ab_testing.JPG)\n",
    "\n",
    "Click-through rate (CTR) refers to the percentage of clicks that the user perform from the total amount ads showed to that user during a certain day. You must perform the analysis of this metric (e.g.: average CTR per day) and provide your insights about it.\n",
    "\n",
    "__Dataset:__ `ctr_pretest.csv`"
   ]
  },
  {
   "cell_type": "code",
   "execution_count": 8,
   "id": "7959450f",
   "metadata": {},
   "outputs": [
    {
     "name": "stdout",
     "output_type": "stream",
     "text": [
      "33.00024304382363\n",
      "0.009219811514079199\n"
     ]
    }
   ],
   "source": [
    "ctr_pretest = pd.read_csv('./data/ctr_pretest.csv')\n",
    "ctr_pretest.head()\n",
    "\n",
    "avg_ctr_per_day = ctr_pretest[['dt','ctr']].groupby('dt').mean()\n",
    "print(avg_ctr_per_day['ctr'].mean())\n",
    "print(np.std(avg_ctr_per_day['ctr']))\n"
   ]
  },
  {
   "cell_type": "markdown",
   "id": "2303aae2",
   "metadata": {},
   "source": [
    "---\n",
    "\n",
    "## Pretest metrics \n",
    "\n",
    "In this section you will perform the analysis of the metrics using the dataset that includes the result for the test and control groups, but only for the pretest data (i.e.: prior to November 1st, 2021). You must provide insights about the metrics (__Activity level__, __DAU__ and __CTR__) and also perform an hyphotesis test in order to determine whether there is any statistical significant difference between the groups prior to the start of the experiment. You must try different approaches (i.e.: __z-test__ and __t-test__) and compare the results.\n",
    "\n",
    "\n",
    "__Datasets:__ `activity_all.csv`, `ctr_all.csv`"
   ]
  },
  {
   "cell_type": "code",
   "execution_count": 9,
   "id": "66d2637f",
   "metadata": {},
   "outputs": [
    {
     "data": {
      "text/html": [
       "<div>\n",
       "<style scoped>\n",
       "    .dataframe tbody tr th:only-of-type {\n",
       "        vertical-align: middle;\n",
       "    }\n",
       "\n",
       "    .dataframe tbody tr th {\n",
       "        vertical-align: top;\n",
       "    }\n",
       "\n",
       "    .dataframe thead th {\n",
       "        text-align: right;\n",
       "    }\n",
       "</style>\n",
       "<table border=\"1\" class=\"dataframe\">\n",
       "  <thead>\n",
       "    <tr style=\"text-align: right;\">\n",
       "      <th></th>\n",
       "      <th>userid</th>\n",
       "      <th>dt</th>\n",
       "      <th>groupid</th>\n",
       "      <th>ctr</th>\n",
       "    </tr>\n",
       "  </thead>\n",
       "  <tbody>\n",
       "    <tr>\n",
       "      <th>831712</th>\n",
       "      <td>d640dc32-7993-48d3-8735-0e684012a122</td>\n",
       "      <td>2021-10-01</td>\n",
       "      <td>1</td>\n",
       "      <td>35.09</td>\n",
       "    </tr>\n",
       "    <tr>\n",
       "      <th>829132</th>\n",
       "      <td>3bb6f17f-479c-4bd7-836f-5106e6a2505a</td>\n",
       "      <td>2021-10-01</td>\n",
       "      <td>1</td>\n",
       "      <td>35.74</td>\n",
       "    </tr>\n",
       "    <tr>\n",
       "      <th>829131</th>\n",
       "      <td>3da7f626-9e2a-4472-9786-97e5f8bab9bc</td>\n",
       "      <td>2021-10-01</td>\n",
       "      <td>1</td>\n",
       "      <td>32.00</td>\n",
       "    </tr>\n",
       "    <tr>\n",
       "      <th>829130</th>\n",
       "      <td>255170b9-4365-4f72-9208-04940b95c5c9</td>\n",
       "      <td>2021-10-01</td>\n",
       "      <td>1</td>\n",
       "      <td>31.32</td>\n",
       "    </tr>\n",
       "    <tr>\n",
       "      <th>829129</th>\n",
       "      <td>f29c4ffc-5dd9-4e32-8e66-0c1fcb1711c3</td>\n",
       "      <td>2021-10-01</td>\n",
       "      <td>1</td>\n",
       "      <td>31.66</td>\n",
       "    </tr>\n",
       "    <tr>\n",
       "      <th>...</th>\n",
       "      <td>...</td>\n",
       "      <td>...</td>\n",
       "      <td>...</td>\n",
       "      <td>...</td>\n",
       "    </tr>\n",
       "    <tr>\n",
       "      <th>778989</th>\n",
       "      <td>8eb1dc42-d4ca-4112-aff7-c478fcf563f9</td>\n",
       "      <td>2021-11-30</td>\n",
       "      <td>0</td>\n",
       "      <td>35.16</td>\n",
       "    </tr>\n",
       "    <tr>\n",
       "      <th>778990</th>\n",
       "      <td>47bc72e2-3005-4199-82ca-d245b65d147f</td>\n",
       "      <td>2021-11-30</td>\n",
       "      <td>0</td>\n",
       "      <td>35.66</td>\n",
       "    </tr>\n",
       "    <tr>\n",
       "      <th>778991</th>\n",
       "      <td>2b5b1d0f-96ea-4796-9bba-927aac40a9df</td>\n",
       "      <td>2021-11-30</td>\n",
       "      <td>0</td>\n",
       "      <td>32.94</td>\n",
       "    </tr>\n",
       "    <tr>\n",
       "      <th>778983</th>\n",
       "      <td>cf8e6005-a3f1-4232-9ced-443412d8ef33</td>\n",
       "      <td>2021-11-30</td>\n",
       "      <td>0</td>\n",
       "      <td>31.29</td>\n",
       "    </tr>\n",
       "    <tr>\n",
       "      <th>808702</th>\n",
       "      <td>109007bf-312f-44a2-a649-9846350d4fb2</td>\n",
       "      <td>2021-11-30</td>\n",
       "      <td>1</td>\n",
       "      <td>38.92</td>\n",
       "    </tr>\n",
       "  </tbody>\n",
       "</table>\n",
       "<p>2303408 rows × 4 columns</p>\n",
       "</div>"
      ],
      "text/plain": [
       "                                      userid          dt  groupid    ctr\n",
       "831712  d640dc32-7993-48d3-8735-0e684012a122  2021-10-01        1  35.09\n",
       "829132  3bb6f17f-479c-4bd7-836f-5106e6a2505a  2021-10-01        1  35.74\n",
       "829131  3da7f626-9e2a-4472-9786-97e5f8bab9bc  2021-10-01        1  32.00\n",
       "829130  255170b9-4365-4f72-9208-04940b95c5c9  2021-10-01        1  31.32\n",
       "829129  f29c4ffc-5dd9-4e32-8e66-0c1fcb1711c3  2021-10-01        1  31.66\n",
       "...                                      ...         ...      ...    ...\n",
       "778989  8eb1dc42-d4ca-4112-aff7-c478fcf563f9  2021-11-30        0  35.16\n",
       "778990  47bc72e2-3005-4199-82ca-d245b65d147f  2021-11-30        0  35.66\n",
       "778991  2b5b1d0f-96ea-4796-9bba-927aac40a9df  2021-11-30        0  32.94\n",
       "778983  cf8e6005-a3f1-4232-9ced-443412d8ef33  2021-11-30        0  31.29\n",
       "808702  109007bf-312f-44a2-a649-9846350d4fb2  2021-11-30        1  38.92\n",
       "\n",
       "[2303408 rows x 4 columns]"
      ]
     },
     "execution_count": 9,
     "metadata": {},
     "output_type": "execute_result"
    }
   ],
   "source": [
    "act_all = pd.read_csv('./data/activity_all.csv', date_format='dt')\n",
    "ctr_all = pd.read_csv('./data/ctr_all.csv', date_format='dt')\n",
    "ctr_all.sort_values(by= 'dt')\n",
    "\n"
   ]
  },
  {
   "cell_type": "code",
   "execution_count": 10,
   "id": "917f852c",
   "metadata": {},
   "outputs": [
    {
     "name": "stdout",
     "output_type": "stream",
     "text": [
      "<class 'pandas.core.frame.DataFrame'>\n",
      "Index: 898530 entries, 0 to 3624659\n",
      "Data columns (total 4 columns):\n",
      " #   Column          Non-Null Count   Dtype \n",
      "---  ------          --------------   ----- \n",
      " 0   userid          898530 non-null  object\n",
      " 1   dt              898530 non-null  object\n",
      " 2   groupid         898530 non-null  int64 \n",
      " 3   activity_level  898530 non-null  int64 \n",
      "dtypes: int64(2), object(2)\n",
      "memory usage: 34.3+ MB\n",
      "None\n",
      "<class 'pandas.core.frame.DataFrame'>\n",
      "Index: 901470 entries, 2 to 3624660\n",
      "Data columns (total 4 columns):\n",
      " #   Column          Non-Null Count   Dtype \n",
      "---  ------          --------------   ----- \n",
      " 0   userid          901470 non-null  object\n",
      " 1   dt              901470 non-null  object\n",
      " 2   groupid         901470 non-null  int64 \n",
      " 3   activity_level  901470 non-null  int64 \n",
      "dtypes: int64(2), object(2)\n",
      "memory usage: 34.4+ MB\n",
      "None\n"
     ]
    }
   ],
   "source": [
    "act_pre = act_all.loc[act_all['dt'] <= '2021-10-30',:]\n",
    "act_pre1 = act_pre.loc[act_pre['groupid'] == 1,:]\n",
    "act_pre0 = act_pre.loc[act_pre['groupid'] == 0,:]\n",
    "print(act_pre0.info())\n",
    "print(act_pre1.info())"
   ]
  },
  {
   "cell_type": "code",
   "execution_count": 11,
   "id": "31370e92",
   "metadata": {},
   "outputs": [
    {
     "name": "stdout",
     "output_type": "stream",
     "text": [
      "(1.2838487803542895, 0.1991948717043318)\n",
      "(1.2838487803542895, 0.20430014922232073, 58.0)\n"
     ]
    }
   ],
   "source": [
    "dau_pre0 = act_pre0.loc[act_pre0['activity_level'] != 0,:].groupby('dt').count()['userid']\n",
    "dau_pre1 = act_pre1.loc[act_pre1['activity_level'] != 0,:].groupby('dt').count()['userid']\n",
    "print(ztest(dau_pre1,dau_pre0,alternative = \"two-sided\"))\n",
    "print(ttest_ind(dau_pre1,dau_pre0,alternative = \"two-sided\"))"
   ]
  },
  {
   "cell_type": "code",
   "execution_count": 12,
   "id": "7d8c4ca3",
   "metadata": {},
   "outputs": [
    {
     "data": {
      "text/plain": [
       "'P value for both tests is greater than 0.05 therefore we cannot reject the null hypothesis,\\nthe means of the dau are not different before the experiment'"
      ]
     },
     "execution_count": 12,
     "metadata": {},
     "output_type": "execute_result"
    }
   ],
   "source": [
    "'''P value for both tests is greater than 0.05 therefore we cannot reject the null hypothesis,\n",
    "the means of the dau are not different before the experiment'''"
   ]
  },
  {
   "cell_type": "code",
   "execution_count": 13,
   "id": "3f761a4d",
   "metadata": {},
   "outputs": [
    {
     "name": "stdout",
     "output_type": "stream",
     "text": [
      "<class 'pandas.core.frame.DataFrame'>\n",
      "Index: 459739 entries, 808703 to 1713715\n",
      "Data columns (total 4 columns):\n",
      " #   Column   Non-Null Count   Dtype  \n",
      "---  ------   --------------   -----  \n",
      " 0   userid   459739 non-null  object \n",
      " 1   dt       459739 non-null  object \n",
      " 2   groupid  459739 non-null  int64  \n",
      " 3   ctr      459739 non-null  float64\n",
      "dtypes: float64(1), int64(1), object(2)\n",
      "memory usage: 17.5+ MB\n",
      "None\n",
      "<class 'pandas.core.frame.DataFrame'>\n",
      "Index: 460617 entries, 824040 to 1729058\n",
      "Data columns (total 4 columns):\n",
      " #   Column   Non-Null Count   Dtype  \n",
      "---  ------   --------------   -----  \n",
      " 0   userid   460617 non-null  object \n",
      " 1   dt       460617 non-null  object \n",
      " 2   groupid  460617 non-null  int64  \n",
      " 3   ctr      460617 non-null  float64\n",
      "dtypes: float64(1), int64(1), object(2)\n",
      "memory usage: 17.6+ MB\n",
      "None\n"
     ]
    }
   ],
   "source": [
    "ctr_pre = ctr_all.loc[ctr_all['dt'] <= '2021-10-30',:]\n",
    "ctr_pre1 = ctr_pre.loc[ctr_pre['groupid'] == 1,:]\n",
    "ctr_pre0 = ctr_pre.loc[ctr_pre['groupid'] == 0,:]\n",
    "print(ctr_pre0.info())\n",
    "print(ctr_pre1.info())"
   ]
  },
  {
   "cell_type": "code",
   "execution_count": 14,
   "id": "fa9be423",
   "metadata": {},
   "outputs": [
    {
     "data": {
      "text/plain": [
       "(array([-0.08853166]), array([0.92945412]))"
      ]
     },
     "execution_count": 14,
     "metadata": {},
     "output_type": "execute_result"
    }
   ],
   "source": [
    "avg_ctr_pre1 = ctr_pre1[['dt','ctr']].groupby('dt').mean()\n",
    "avg_ctr_pre0 = ctr_pre0[['dt','ctr']].groupby('dt').mean()\n",
    "\n",
    "ztest(avg_ctr_pre1,avg_ctr_pre0,alternative = \"two-sided\")"
   ]
  },
  {
   "cell_type": "code",
   "execution_count": 15,
   "id": "98619fa3",
   "metadata": {},
   "outputs": [
    {
     "data": {
      "text/plain": [
       "'P value is 0.92 and higher than 0.05 so we cannot reject the null hypotesis \\n(the average ctr is the same for both groups), before the test starts'"
      ]
     },
     "execution_count": 15,
     "metadata": {},
     "output_type": "execute_result"
    }
   ],
   "source": [
    "'''P value is 0.92 and higher than 0.05 so we cannot reject the null hypotesis \n",
    "(the average ctr is the same for both groups), before the test starts'''"
   ]
  },
  {
   "cell_type": "code",
   "execution_count": 16,
   "id": "16670c73",
   "metadata": {},
   "outputs": [
    {
     "data": {
      "text/plain": [
       "(array([-0.08853166]), array([0.92975911]), 58.0)"
      ]
     },
     "execution_count": 16,
     "metadata": {},
     "output_type": "execute_result"
    }
   ],
   "source": [
    "ttest_ind(avg_ctr_pre1,avg_ctr_pre0)"
   ]
  },
  {
   "cell_type": "code",
   "execution_count": 17,
   "id": "50d79a34",
   "metadata": {},
   "outputs": [
    {
     "data": {
      "text/plain": [
       "'t test also rejects null hypotesis'"
      ]
     },
     "execution_count": 17,
     "metadata": {},
     "output_type": "execute_result"
    }
   ],
   "source": [
    "'''t test also rejects null hypotesis'''"
   ]
  },
  {
   "cell_type": "markdown",
   "id": "f8a51d75",
   "metadata": {},
   "source": [
    "---\n",
    "\n",
    "## Experiment metrics \n",
    "\n",
    "In this section you must perform the same analysis as in the previous section, but using the data generated during the experiment (i.e.: after November 1st, 2021). You must provide insights about the metrics (__Activity level__, __DAU__ and __CTR__) and also perform an hyphotesis test in order to determine whether there is any statistical significant difference between the groups during the experiment. You must try different approaches (i.e.: __z-test__ and __t-test__) and compare the results.\n",
    "\n",
    "\n",
    "__Datasets:__ `activity_all.csv`, `ctr_all.csv`"
   ]
  },
  {
   "cell_type": "code",
   "execution_count": 18,
   "id": "961b5fdc",
   "metadata": {},
   "outputs": [
    {
     "name": "stdout",
     "output_type": "stream",
     "text": [
      "<class 'pandas.core.frame.DataFrame'>\n",
      "Index: 928481 entries, 879645 to 3659999\n",
      "Data columns (total 4 columns):\n",
      " #   Column          Non-Null Count   Dtype \n",
      "---  ------          --------------   ----- \n",
      " 0   userid          928481 non-null  object\n",
      " 1   dt              928481 non-null  object\n",
      " 2   groupid         928481 non-null  int64 \n",
      " 3   activity_level  928481 non-null  int64 \n",
      "dtypes: int64(2), object(2)\n",
      "memory usage: 35.4+ MB\n",
      "None\n",
      "<class 'pandas.core.frame.DataFrame'>\n",
      "Index: 931519 entries, 879644 to 3659998\n",
      "Data columns (total 4 columns):\n",
      " #   Column          Non-Null Count   Dtype \n",
      "---  ------          --------------   ----- \n",
      " 0   userid          931519 non-null  object\n",
      " 1   dt              931519 non-null  object\n",
      " 2   groupid         931519 non-null  int64 \n",
      " 3   activity_level  931519 non-null  int64 \n",
      "dtypes: int64(2), object(2)\n",
      "memory usage: 35.5+ MB\n",
      "None\n"
     ]
    }
   ],
   "source": [
    "act_test = act_all.loc[act_all['dt'] > '2021-10-30',:]\n",
    "act_test1 = act_test.loc[act_test['groupid'] == 1,:]\n",
    "act_test0 = act_test.loc[act_test['groupid'] == 0,:]\n",
    "print(act_test0.info())\n",
    "print(act_test1.info())"
   ]
  },
  {
   "cell_type": "code",
   "execution_count": 19,
   "id": "acecd0c3",
   "metadata": {},
   "outputs": [
    {
     "name": "stdout",
     "output_type": "stream",
     "text": [
      "(28.670986070030523, 4.3891855327736243e-181)\n",
      "(28.670986070030526, 5.0689403875943095e-37, 60.0)\n"
     ]
    }
   ],
   "source": [
    "dau_test0 = act_test0.loc[act_test0['activity_level'] != 0,:].groupby('dt').count()['userid']\n",
    "dau_test1 = act_test1.loc[act_test1['activity_level'] != 0,:].groupby('dt').count()['userid']\n",
    "print(ztest(dau_test1,dau_test0,alternative = \"larger\"))\n",
    "print(ttest_ind(dau_test1,dau_test0,alternative = \"larger\"))"
   ]
  },
  {
   "cell_type": "code",
   "execution_count": 20,
   "id": "7a606362",
   "metadata": {},
   "outputs": [
    {
     "data": {
      "text/plain": [
       "'P value is very low for both test meaning we can reject the null hipotesis and state that\\ndau were higher for the test group than for the control group during the experiment'"
      ]
     },
     "execution_count": 20,
     "metadata": {},
     "output_type": "execute_result"
    }
   ],
   "source": [
    "'''P value is very low for both test meaning we can reject the null hipotesis and state that\n",
    "dau were higher for the test group than for the control group during the experiment'''"
   ]
  },
  {
   "cell_type": "code",
   "execution_count": 29,
   "id": "ef30d0cd",
   "metadata": {},
   "outputs": [
    {
     "name": "stdout",
     "output_type": "stream",
     "text": [
      "(29.391254318243686, 3.551828336000857e-190)\n",
      "(29.39125431824369, 3.1356653363564878e-37, 59.0)\n"
     ]
    }
   ],
   "source": [
    "print(ztest(dau_test1,dau_pre1,alternative = \"larger\"))\n",
    "print(ttest_ind(dau_test1,dau_pre1,alternative = \"larger\"))"
   ]
  },
  {
   "cell_type": "code",
   "execution_count": null,
   "id": "475166b5",
   "metadata": {},
   "outputs": [],
   "source": [
    "'''DAU is bigger in the test group after the test starts'''"
   ]
  },
  {
   "cell_type": "code",
   "execution_count": 33,
   "id": "804253c1",
   "metadata": {},
   "outputs": [
    {
     "name": "stdout",
     "output_type": "stream",
     "text": [
      "(6.176292053931398, 3.281227229478719e-10)\n",
      "(6.176292053931398, 3.29036628476891e-08, 59.0)\n"
     ]
    }
   ],
   "source": [
    "print(ztest(dau_test0,dau_pre0,alternative = \"larger\"))\n",
    "print(ttest_ind(dau_test0,dau_pre0,alternative = \"larger\"))"
   ]
  },
  {
   "cell_type": "code",
   "execution_count": null,
   "id": "1838eddb",
   "metadata": {},
   "outputs": [],
   "source": [
    "'''DAU is also larger for the control group after the test starts, so part of the activity increase can be time related'''"
   ]
  },
  {
   "cell_type": "code",
   "execution_count": 21,
   "id": "3bf89036",
   "metadata": {},
   "outputs": [
    {
     "name": "stdout",
     "output_type": "stream",
     "text": [
      "<class 'pandas.core.frame.DataFrame'>\n",
      "Index: 488668 entries, 0 to 2274129\n",
      "Data columns (total 4 columns):\n",
      " #   Column   Non-Null Count   Dtype  \n",
      "---  ------   --------------   -----  \n",
      " 0   userid   488668 non-null  object \n",
      " 1   dt       488668 non-null  object \n",
      " 2   groupid  488668 non-null  int64  \n",
      " 3   ctr      488668 non-null  float64\n",
      "dtypes: float64(1), int64(1), object(2)\n",
      "memory usage: 18.6+ MB\n",
      "None\n",
      "<class 'pandas.core.frame.DataFrame'>\n",
      "Index: 894384 entries, 15973 to 2303407\n",
      "Data columns (total 4 columns):\n",
      " #   Column   Non-Null Count   Dtype  \n",
      "---  ------   --------------   -----  \n",
      " 0   userid   894384 non-null  object \n",
      " 1   dt       894384 non-null  object \n",
      " 2   groupid  894384 non-null  int64  \n",
      " 3   ctr      894384 non-null  float64\n",
      "dtypes: float64(1), int64(1), object(2)\n",
      "memory usage: 34.1+ MB\n",
      "None\n"
     ]
    }
   ],
   "source": [
    "ctr_test = ctr_all.loc[ctr_all['dt'] > '2021-10-30',:]\n",
    "ctr_test1 = ctr_test.loc[ctr_test['groupid'] == 1,:]\n",
    "ctr_test0 = ctr_test.loc[ctr_test['groupid'] == 0,:]\n",
    "print(ctr_test0.info())\n",
    "print(ctr_test1.info())"
   ]
  },
  {
   "cell_type": "code",
   "execution_count": 26,
   "id": "99892d68",
   "metadata": {},
   "outputs": [
    {
     "name": "stdout",
     "output_type": "stream",
     "text": [
      "(array([29.83571824]), array([6.72526788e-196]))\n",
      "(array([29.83571824]), array([5.42269504e-38]), 60.0)\n"
     ]
    }
   ],
   "source": [
    "avg_ctr_test1 = ctr_test1[['dt','ctr']].groupby('dt').mean()\n",
    "avg_ctr_test0 = ctr_test0[['dt','ctr']].groupby('dt').mean()\n",
    "\n",
    "print(ztest(avg_ctr_test1,avg_ctr_test0,alternative = \"larger\"))\n",
    "print(ttest_ind(avg_ctr_test1,avg_ctr_test0,alternative='larger'))\n"
   ]
  },
  {
   "cell_type": "code",
   "execution_count": 23,
   "id": "7a2a0c41",
   "metadata": {},
   "outputs": [
    {
     "data": {
      "text/plain": [
       "\"p value is very small mutch smaller than any reasonable alpha so we can reject the nule hypothesis \\n(test group ctr is not bigger than control group ctr). Therefore, test group ctr is bigger than control's\""
      ]
     },
     "execution_count": 23,
     "metadata": {},
     "output_type": "execute_result"
    }
   ],
   "source": [
    "'''p value is very small mutch smaller than any reasonable alpha so we can reject the nule hypothesis \n",
    "(test group ctr is not bigger than control group ctr). Therefore, test group ctr is bigger than control's after the test'''"
   ]
  },
  {
   "cell_type": "code",
   "execution_count": 27,
   "id": "c7e21d8f",
   "metadata": {},
   "outputs": [
    {
     "name": "stdout",
     "output_type": "stream",
     "text": [
      "(array([29.32193033]), array([2.72467546e-189]))\n",
      "(array([29.32193033]), array([3.57292858e-37]), 59.0)\n"
     ]
    }
   ],
   "source": [
    "print(ztest(avg_ctr_test1,avg_ctr_pre1,alternative = \"larger\"))\n",
    "print(ttest_ind(avg_ctr_test1,avg_ctr_pre1,alternative='larger'))"
   ]
  },
  {
   "cell_type": "code",
   "execution_count": null,
   "id": "1c4642d2",
   "metadata": {},
   "outputs": [],
   "source": [
    "'''p value is very small mutch smaller than any reasonable alpha so we can reject the nule hypothesis \n",
    "(test group ctr is not bigger than test group ctr before the experiment). Therefore, test group ctr is bigger after the test starts'''"
   ]
  },
  {
   "cell_type": "code",
   "execution_count": 30,
   "id": "d4c635f2",
   "metadata": {},
   "outputs": [
    {
     "name": "stdout",
     "output_type": "stream",
     "text": [
      "(array([-1.0709066]), array([0.28421143]))\n",
      "(array([-1.0709066]), array([0.28857278]), 59.0)\n"
     ]
    }
   ],
   "source": [
    "print(ztest(avg_ctr_test0,avg_ctr_pre0,alternative = \"two-sided\"))\n",
    "print(ttest_ind(avg_ctr_test0,avg_ctr_pre0,alternative='two-sided'))"
   ]
  },
  {
   "cell_type": "code",
   "execution_count": null,
   "id": "de6c5559",
   "metadata": {},
   "outputs": [],
   "source": [
    "'''There are no statistically significant difference between control's group CTR before and after the experiment starts'''"
   ]
  },
  {
   "cell_type": "markdown",
   "id": "1ea6cd70",
   "metadata": {},
   "source": [
    "---\n",
    "\n",
    "## Conclusions\n",
    "\n",
    "Please provide your conclusions after the analyses and your recommendation whether we may or may not implement the changes in the digital product."
   ]
  },
  {
   "cell_type": "code",
   "execution_count": 25,
   "id": "e04b3a04",
   "metadata": {},
   "outputs": [
    {
     "data": {
      "text/plain": [
       "'The change we are testing results both in a an activity increase as a CTR increase.\\nTherefore it should be implemented according to statistics'"
      ]
     },
     "execution_count": 25,
     "metadata": {},
     "output_type": "execute_result"
    }
   ],
   "source": [
    "# your-conclusions\n",
    "'''The change we are testing results both in a an activity increase (DAU) as a CTR increase.\n",
    "Therefore it should be implemented according to statistics'''\n",
    "\n"
   ]
  },
  {
   "cell_type": "markdown",
   "id": "4c014b7f",
   "metadata": {},
   "source": [
    "---"
   ]
  }
 ],
 "metadata": {
  "kernelspec": {
   "display_name": "Python (m2_env)",
   "language": "python",
   "name": "m2_env"
  },
  "language_info": {
   "codemirror_mode": {
    "name": "ipython",
    "version": 3
   },
   "file_extension": ".py",
   "mimetype": "text/x-python",
   "name": "python",
   "nbconvert_exporter": "python",
   "pygments_lexer": "ipython3",
   "version": "3.12.0"
  }
 },
 "nbformat": 4,
 "nbformat_minor": 5
}
